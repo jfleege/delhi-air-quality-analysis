{
 "cells": [
  {
   "cell_type": "markdown",
   "id": "9830e1f7-80c1-43ef-a088-faae3b2ee854",
   "metadata": {},
   "source": [
    "#### importing packages that will/might be used throughout the course of this file"
   ]
  },
  {
   "cell_type": "code",
   "execution_count": 132,
   "id": "9551ad48-8d06-464f-b263-00ecc09bb271",
   "metadata": {},
   "outputs": [],
   "source": [
    "import pandas as pd\n",
    "import matplotlib.pyplot as plt\n",
    "import seaborn as sns\n",
    "import sqlite3"
   ]
  },
  {
   "cell_type": "markdown",
   "id": "1f4649cd-f9ad-4771-93bc-f551ff8b7f4b",
   "metadata": {},
   "source": [
    "## Background"
   ]
  },
  {
   "cell_type": "markdown",
   "id": "a2e4fa46-72d7-4898-b393-97f4b19124be",
   "metadata": {},
   "source": [
    "### About the Dataset\n",
    "This dataset contains daily records of air pollutant concentrations collected over time, including PM2.5, PM10, NO₂, SO₂, CO, and Ozone. It also logs the Air Quality Index (AQI), along with date (day, month, year) also includes number of holidays and weekday representation. It is ideal for developing models to predict AQI, study pollution patterns, and analyze the effects of temporal or holiday factors on air quality."
   ]
  },
  {
   "cell_type": "markdown",
   "id": "6796386a-4645-40f7-bd5a-afb6b05e4af6",
   "metadata": {},
   "source": [
    "##### (importing dataset that will be used to draw and collect data so that we can make decisive conclusions)"
   ]
  },
  {
   "cell_type": "code",
   "execution_count": 133,
   "id": "1c679074-f6f5-420b-9fe9-3d0dd1f6d410",
   "metadata": {},
   "outputs": [
    {
     "data": {
      "text/html": [
       "<div>\n",
       "<style scoped>\n",
       "    .dataframe tbody tr th:only-of-type {\n",
       "        vertical-align: middle;\n",
       "    }\n",
       "\n",
       "    .dataframe tbody tr th {\n",
       "        vertical-align: top;\n",
       "    }\n",
       "\n",
       "    .dataframe thead th {\n",
       "        text-align: right;\n",
       "    }\n",
       "</style>\n",
       "<table border=\"1\" class=\"dataframe\">\n",
       "  <thead>\n",
       "    <tr style=\"text-align: right;\">\n",
       "      <th></th>\n",
       "      <th>Date</th>\n",
       "      <th>Month</th>\n",
       "      <th>Year</th>\n",
       "      <th>Holidays_Count</th>\n",
       "      <th>Days</th>\n",
       "      <th>PM2.5</th>\n",
       "      <th>PM10</th>\n",
       "      <th>NO2</th>\n",
       "      <th>SO2</th>\n",
       "      <th>CO</th>\n",
       "      <th>Ozone</th>\n",
       "      <th>AQI</th>\n",
       "    </tr>\n",
       "  </thead>\n",
       "  <tbody>\n",
       "    <tr>\n",
       "      <th>0</th>\n",
       "      <td>1</td>\n",
       "      <td>1</td>\n",
       "      <td>2021</td>\n",
       "      <td>0</td>\n",
       "      <td>5</td>\n",
       "      <td>408.80</td>\n",
       "      <td>442.42</td>\n",
       "      <td>160.61</td>\n",
       "      <td>12.95</td>\n",
       "      <td>2.77</td>\n",
       "      <td>43.19</td>\n",
       "      <td>462</td>\n",
       "    </tr>\n",
       "    <tr>\n",
       "      <th>1</th>\n",
       "      <td>2</td>\n",
       "      <td>1</td>\n",
       "      <td>2021</td>\n",
       "      <td>0</td>\n",
       "      <td>6</td>\n",
       "      <td>404.04</td>\n",
       "      <td>561.95</td>\n",
       "      <td>52.85</td>\n",
       "      <td>5.18</td>\n",
       "      <td>2.60</td>\n",
       "      <td>16.43</td>\n",
       "      <td>482</td>\n",
       "    </tr>\n",
       "    <tr>\n",
       "      <th>2</th>\n",
       "      <td>3</td>\n",
       "      <td>1</td>\n",
       "      <td>2021</td>\n",
       "      <td>1</td>\n",
       "      <td>7</td>\n",
       "      <td>225.07</td>\n",
       "      <td>239.04</td>\n",
       "      <td>170.95</td>\n",
       "      <td>10.93</td>\n",
       "      <td>1.40</td>\n",
       "      <td>44.29</td>\n",
       "      <td>263</td>\n",
       "    </tr>\n",
       "    <tr>\n",
       "      <th>3</th>\n",
       "      <td>4</td>\n",
       "      <td>1</td>\n",
       "      <td>2021</td>\n",
       "      <td>0</td>\n",
       "      <td>1</td>\n",
       "      <td>89.55</td>\n",
       "      <td>132.08</td>\n",
       "      <td>153.98</td>\n",
       "      <td>10.42</td>\n",
       "      <td>1.01</td>\n",
       "      <td>49.19</td>\n",
       "      <td>207</td>\n",
       "    </tr>\n",
       "    <tr>\n",
       "      <th>4</th>\n",
       "      <td>5</td>\n",
       "      <td>1</td>\n",
       "      <td>2021</td>\n",
       "      <td>0</td>\n",
       "      <td>2</td>\n",
       "      <td>54.06</td>\n",
       "      <td>55.54</td>\n",
       "      <td>122.66</td>\n",
       "      <td>9.70</td>\n",
       "      <td>0.64</td>\n",
       "      <td>48.88</td>\n",
       "      <td>149</td>\n",
       "    </tr>\n",
       "  </tbody>\n",
       "</table>\n",
       "</div>"
      ],
      "text/plain": [
       "   Date  Month  Year  Holidays_Count  Days   PM2.5    PM10     NO2    SO2  \\\n",
       "0     1      1  2021               0     5  408.80  442.42  160.61  12.95   \n",
       "1     2      1  2021               0     6  404.04  561.95   52.85   5.18   \n",
       "2     3      1  2021               1     7  225.07  239.04  170.95  10.93   \n",
       "3     4      1  2021               0     1   89.55  132.08  153.98  10.42   \n",
       "4     5      1  2021               0     2   54.06   55.54  122.66   9.70   \n",
       "\n",
       "     CO  Ozone  AQI  \n",
       "0  2.77  43.19  462  \n",
       "1  2.60  16.43  482  \n",
       "2  1.40  44.29  263  \n",
       "3  1.01  49.19  207  \n",
       "4  0.64  48.88  149  "
      ]
     },
     "execution_count": 133,
     "metadata": {},
     "output_type": "execute_result"
    }
   ],
   "source": [
    "df = pd.read_csv(\"final_dataset.csv\")\n",
    "df.head()"
   ]
  },
  {
   "cell_type": "markdown",
   "id": "964a5ebd-089e-488c-9df8-a128d498a297",
   "metadata": {},
   "source": [
    "### Research Question\n",
    "Is more CO produced on average by the residents and businesses of the Delhi region on weekdays (numbered 1-5 on the table) or weekends (numbered 6-7)?\n",
    "\n",
    "### Procedure\n",
    "\n",
    "The data from this table was collected throughout the span of 5 years, 2021 through 2025, measuring the air pollutant concentrations collected over time, including PM2.5, PM10, NO₂, SO₂, CO, and Ozone. For the case of this study, we will only be focusing on the concentrations of CO. \n",
    "\n",
    "To accurately measure the difference in concentration of CO between weekdays and weekends, we're going to collect averages on days numbered 1-5 in the \"Days\" column and 6-7 in the \"Days\" column to properly account for days Monday-Friday and Saturday-Sunday, respectively. With this data, we're going to plot the distributions to make a decision on the null hypothesis. The null will be tested a significance level of p = .05.\n",
    "\n",
    "### Null Hypothesis\n",
    "There is no difference in the proportion of CO emissions over time between the weekdays and weekends by the residents and businesses of the Delhi region.\n"
   ]
  },
  {
   "cell_type": "code",
   "execution_count": 134,
   "id": "d5ec8ea7-424b-4047-a9ac-c68a86003641",
   "metadata": {},
   "outputs": [
    {
     "data": {
      "text/plain": [
       "Days\n",
       "5    209\n",
       "6    209\n",
       "7    209\n",
       "1    209\n",
       "2    209\n",
       "3    208\n",
       "4    208\n",
       "Name: count, dtype: int64"
      ]
     },
     "execution_count": 134,
     "metadata": {},
     "output_type": "execute_result"
    }
   ],
   "source": [
    "df.info\n",
    "df.describe()\n",
    "df['Days'].value_counts()"
   ]
  },
  {
   "cell_type": "code",
   "execution_count": 135,
   "id": "fb71c1c2-0805-437f-99ce-510c0eee5ead",
   "metadata": {},
   "outputs": [],
   "source": [
    "df['DayType'] = df['Days'].apply(lambda x: 'Weekday' if x in [1, 2, 3, 4, 5] else 'Weekend')"
   ]
  },
  {
   "cell_type": "code",
   "execution_count": 136,
   "id": "8887a0f1-640c-49e1-a9af-948b9533788a",
   "metadata": {},
   "outputs": [
    {
     "name": "stdout",
     "output_type": "stream",
     "text": [
      "\n",
      "Grouped Means:\n",
      "DayType\n",
      "Weekday    1.028408\n",
      "Weekend    1.019402\n",
      "Name: CO, dtype: float64\n",
      "\n",
      "Grouped Standard Deviations:\n",
      "DayType\n",
      "Weekday    0.618021\n",
      "Weekend    0.584032\n",
      "Name: CO, dtype: float64\n",
      "\n",
      "Grouped Variances:\n",
      "DayType\n",
      "Weekday    0.381949\n",
      "Weekend    0.341093\n",
      "Name: CO, dtype: float64\n"
     ]
    }
   ],
   "source": [
    "# Mean, Deviation, Variation for CO for Weekdays\n",
    "weekday_CO_mean = df[df['DayType'] == 'Weekday']['CO'].mean()\n",
    "weekday_CO_dev = df[df['DayType'] == 'Weekday']['CO'].std()\n",
    "weekday_CO_var = df[df['DayType'] == 'Weekday']['CO'].var()\n",
    "\n",
    "# Mean, Deviation, Variation for CO for Weekends\n",
    "weekend_CO_mean = df[df['DayType'] == 'Weekend']['CO'].mean()\n",
    "weekend_CO_dev = df[df['DayType'] == 'Weekdend']['CO'].std()\n",
    "weekend_CO_var = df[df['DayType'] == 'Weekend']['CO'].var()\n",
    "\n",
    "# Grouped Means, Deviation, Variance\n",
    "co_means = df.groupby('DayType')['CO'].mean()\n",
    "co_dev = df.groupby('DayType')['CO'].std()\n",
    "co_var = df.groupby('DayType')['CO'].var()\n",
    "\n",
    "print(\"\\nGrouped Means:\")\n",
    "print(co_means)\n",
    "\n",
    "print(\"\\nGrouped Standard Deviations:\")\n",
    "print(co_dev)\n",
    "\n",
    "print(\"\\nGrouped Variances:\")\n",
    "print(co_var)"
   ]
  },
  {
   "cell_type": "code",
   "execution_count": null,
   "id": "120da4e9-69db-4669-923c-75ee64dc39cf",
   "metadata": {},
   "outputs": [],
   "source": []
  }
 ],
 "metadata": {
  "kernelspec": {
   "display_name": "Python 3 (ipykernel)",
   "language": "python",
   "name": "python3"
  },
  "language_info": {
   "codemirror_mode": {
    "name": "ipython",
    "version": 3
   },
   "file_extension": ".py",
   "mimetype": "text/x-python",
   "name": "python",
   "nbconvert_exporter": "python",
   "pygments_lexer": "ipython3",
   "version": "3.13.5"
  }
 },
 "nbformat": 4,
 "nbformat_minor": 5
}
