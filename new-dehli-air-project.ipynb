{
 "cells": [
  {
   "cell_type": "markdown",
   "id": "3537fa42-e42c-41ea-be19-7edcb430162a",
   "metadata": {},
   "source": [
    "# Dehli Air Quality Analysis\n",
    "### by Jackson Fleege"
   ]
  },
  {
   "cell_type": "code",
   "execution_count": 336,
   "id": "9551ad48-8d06-464f-b263-00ecc09bb271",
   "metadata": {},
   "outputs": [],
   "source": [
    "# Importing packages that will be used throughout the course of this file\n",
    "import pandas as pd\n",
    "import matplotlib.pyplot as plt\n",
    "import seaborn as sns\n",
    "import sqlite3"
   ]
  },
  {
   "cell_type": "markdown",
   "id": "1f4649cd-f9ad-4771-93bc-f551ff8b7f4b",
   "metadata": {},
   "source": [
    "## Background"
   ]
  },
  {
   "cell_type": "markdown",
   "id": "a2e4fa46-72d7-4898-b393-97f4b19124be",
   "metadata": {},
   "source": [
    "### About the Dataset\n",
    "This dataset contains daily records of air pollutant concentrations collected over time, including PM2.5, PM10, NO₂, SO₂, CO, and Ozone. It also logs the Air Quality Index (AQI), along with date (day, month, year) also includes number of holidays and weekday representation. It is ideal for developing models to predict AQI, study pollution patterns, and analyze the effects of temporal or holiday factors on air quality."
   ]
  },
  {
   "cell_type": "code",
   "execution_count": 337,
   "id": "1c679074-f6f5-420b-9fe9-3d0dd1f6d410",
   "metadata": {},
   "outputs": [
    {
     "data": {
      "text/html": [
       "<div>\n",
       "<style scoped>\n",
       "    .dataframe tbody tr th:only-of-type {\n",
       "        vertical-align: middle;\n",
       "    }\n",
       "\n",
       "    .dataframe tbody tr th {\n",
       "        vertical-align: top;\n",
       "    }\n",
       "\n",
       "    .dataframe thead th {\n",
       "        text-align: right;\n",
       "    }\n",
       "</style>\n",
       "<table border=\"1\" class=\"dataframe\">\n",
       "  <thead>\n",
       "    <tr style=\"text-align: right;\">\n",
       "      <th></th>\n",
       "      <th>Date</th>\n",
       "      <th>Month</th>\n",
       "      <th>Year</th>\n",
       "      <th>Holidays_Count</th>\n",
       "      <th>Days</th>\n",
       "      <th>PM2.5</th>\n",
       "      <th>PM10</th>\n",
       "      <th>NO2</th>\n",
       "      <th>SO2</th>\n",
       "      <th>CO</th>\n",
       "      <th>Ozone</th>\n",
       "      <th>AQI</th>\n",
       "    </tr>\n",
       "  </thead>\n",
       "  <tbody>\n",
       "    <tr>\n",
       "      <th>0</th>\n",
       "      <td>1</td>\n",
       "      <td>1</td>\n",
       "      <td>2021</td>\n",
       "      <td>0</td>\n",
       "      <td>5</td>\n",
       "      <td>408.80</td>\n",
       "      <td>442.42</td>\n",
       "      <td>160.61</td>\n",
       "      <td>12.95</td>\n",
       "      <td>2.77</td>\n",
       "      <td>43.19</td>\n",
       "      <td>462</td>\n",
       "    </tr>\n",
       "    <tr>\n",
       "      <th>1</th>\n",
       "      <td>2</td>\n",
       "      <td>1</td>\n",
       "      <td>2021</td>\n",
       "      <td>0</td>\n",
       "      <td>6</td>\n",
       "      <td>404.04</td>\n",
       "      <td>561.95</td>\n",
       "      <td>52.85</td>\n",
       "      <td>5.18</td>\n",
       "      <td>2.60</td>\n",
       "      <td>16.43</td>\n",
       "      <td>482</td>\n",
       "    </tr>\n",
       "    <tr>\n",
       "      <th>2</th>\n",
       "      <td>3</td>\n",
       "      <td>1</td>\n",
       "      <td>2021</td>\n",
       "      <td>1</td>\n",
       "      <td>7</td>\n",
       "      <td>225.07</td>\n",
       "      <td>239.04</td>\n",
       "      <td>170.95</td>\n",
       "      <td>10.93</td>\n",
       "      <td>1.40</td>\n",
       "      <td>44.29</td>\n",
       "      <td>263</td>\n",
       "    </tr>\n",
       "    <tr>\n",
       "      <th>3</th>\n",
       "      <td>4</td>\n",
       "      <td>1</td>\n",
       "      <td>2021</td>\n",
       "      <td>0</td>\n",
       "      <td>1</td>\n",
       "      <td>89.55</td>\n",
       "      <td>132.08</td>\n",
       "      <td>153.98</td>\n",
       "      <td>10.42</td>\n",
       "      <td>1.01</td>\n",
       "      <td>49.19</td>\n",
       "      <td>207</td>\n",
       "    </tr>\n",
       "    <tr>\n",
       "      <th>4</th>\n",
       "      <td>5</td>\n",
       "      <td>1</td>\n",
       "      <td>2021</td>\n",
       "      <td>0</td>\n",
       "      <td>2</td>\n",
       "      <td>54.06</td>\n",
       "      <td>55.54</td>\n",
       "      <td>122.66</td>\n",
       "      <td>9.70</td>\n",
       "      <td>0.64</td>\n",
       "      <td>48.88</td>\n",
       "      <td>149</td>\n",
       "    </tr>\n",
       "  </tbody>\n",
       "</table>\n",
       "</div>"
      ],
      "text/plain": [
       "   Date  Month  Year  Holidays_Count  Days   PM2.5    PM10     NO2    SO2  \\\n",
       "0     1      1  2021               0     5  408.80  442.42  160.61  12.95   \n",
       "1     2      1  2021               0     6  404.04  561.95   52.85   5.18   \n",
       "2     3      1  2021               1     7  225.07  239.04  170.95  10.93   \n",
       "3     4      1  2021               0     1   89.55  132.08  153.98  10.42   \n",
       "4     5      1  2021               0     2   54.06   55.54  122.66   9.70   \n",
       "\n",
       "     CO  Ozone  AQI  \n",
       "0  2.77  43.19  462  \n",
       "1  2.60  16.43  482  \n",
       "2  1.40  44.29  263  \n",
       "3  1.01  49.19  207  \n",
       "4  0.64  48.88  149  "
      ]
     },
     "execution_count": 337,
     "metadata": {},
     "output_type": "execute_result"
    }
   ],
   "source": [
    "# Importing dataset that will be used to draw and collect data so that we can make decisive conclusions\n",
    "df = pd.read_csv(\"final_dataset.csv\")\n",
    "df.head()"
   ]
  },
  {
   "cell_type": "markdown",
   "id": "964a5ebd-089e-488c-9df8-a128d498a297",
   "metadata": {},
   "source": [
    "### Research Question\n",
    "Is more CO produced on average by the residents and businesses of the Delhi region on weekdays (numbered 1-5 on the table) or weekends (numbered 6-7)?\n",
    "\n",
    "### Procedure\n",
    "\n",
    "The data from this table was collected throughout the span of 5 years, 2021 through 2025, measuring the air pollutant concentrations collected over time, including PM2.5, PM10, NO₂, SO₂, CO, and Ozone. For the case of this study, we will only be focusing on the concentrations of CO. \n",
    "\n",
    "To accurately measure the difference in concentration of CO between weekdays and weekends, we're going to collect averages on days numbered 1-5 in the \"Days\" column and 6-7 in the \"Days\" column to properly account for days Monday-Friday and Saturday-Sunday, respectively. With this data, we're going to plot the distributions to make a decision on the null hypothesis. The null will be tested a significance level of p = .05.\n",
    "\n",
    "### Null Hypothesis\n",
    "There is no difference in the proportion of CO emissions over time between the weekdays and weekends by the residents and businesses of the Delhi region.\n"
   ]
  },
  {
   "cell_type": "markdown",
   "id": "613bb052-cb47-4fbb-881c-96ec97160190",
   "metadata": {},
   "source": [
    "## Conducting the Comparison of Proportions\n",
    "\n",
    "Before conducting a statistical analysis on the data, it's important to get a sense of what details the data has to offer so that it can properly be worked with. To start, it's important to assure the data is clean so that a figure can be reached on how many observations there are for each day."
   ]
  },
  {
   "cell_type": "code",
   "execution_count": 338,
   "id": "d5ec8ea7-424b-4047-a9ac-c68a86003641",
   "metadata": {
    "jupyter": {
     "source_hidden": true
    }
   },
   "outputs": [
    {
     "data": {
      "text/plain": [
       "Days\n",
       "5    209\n",
       "6    209\n",
       "7    209\n",
       "1    209\n",
       "2    209\n",
       "3    208\n",
       "4    208\n",
       "Name: count, dtype: int64"
      ]
     },
     "execution_count": 338,
     "metadata": {},
     "output_type": "execute_result"
    }
   ],
   "source": [
    "# Getting a sense of the dataset's structure and descriptive infromation\n",
    "df.info\n",
    "df.describe()\n",
    "df['Days'].value_counts()"
   ]
  },
  {
   "cell_type": "markdown",
   "id": "f1b81489-74f3-4f4f-990f-768bae41b7b7",
   "metadata": {},
   "source": [
    "Using the info and describe calls, the data can now be properly sorted so that the days can be put into two unique categories: Weekdays and Weekends.\n",
    "\n",
    "After grabbing the two day types, the respective mean, standard deviation, and variance was calculated; starting with the Weekdays, then Weekends. Finally, both days were combined and printed so that they can be viewed easier and the comparisons can be better drawn."
   ]
  },
  {
   "cell_type": "code",
   "execution_count": 339,
   "id": "8887a0f1-640c-49e1-a9af-948b9533788a",
   "metadata": {
    "jupyter": {
     "source_hidden": true
    }
   },
   "outputs": [
    {
     "name": "stdout",
     "output_type": "stream",
     "text": [
      "\n",
      "Grouped Means:\n",
      "DayType\n",
      "Weekday    1.028408\n",
      "Weekend    1.019402\n",
      "Name: CO, dtype: float64\n",
      "\n",
      "Grouped Standard Deviations:\n",
      "DayType\n",
      "Weekday    0.618021\n",
      "Weekend    0.584032\n",
      "Name: CO, dtype: float64\n",
      "\n",
      "Grouped Variances:\n",
      "DayType\n",
      "Weekday    0.381949\n",
      "Weekend    0.341093\n",
      "Name: CO, dtype: float64\n"
     ]
    }
   ],
   "source": [
    "# Creating the \"Weekday\" and \"Weekend\" qualifications \n",
    "# so that we can calculate the mean, deviation, and variance of both\n",
    "df['DayType'] = df['Days'].apply(lambda x: 'Weekday' if x in [1, 2, 3, 4, 5] else 'Weekend')\n",
    "\n",
    "# Mean, deviation, variation for CO for weekdays\n",
    "weekday_CO_mean = df[df['DayType'] == 'Weekday']['CO'].mean()\n",
    "weekday_CO_dev = df[df['DayType'] == 'Weekday']['CO'].std()\n",
    "weekday_CO_var = df[df['DayType'] == 'Weekday']['CO'].var()\n",
    "\n",
    "# Mean, deviation, variation for CO for weekends\n",
    "weekend_CO_mean = df[df['DayType'] == 'Weekend']['CO'].mean()\n",
    "weekend_CO_dev = df[df['DayType'] == 'Weekdend']['CO'].std()\n",
    "weekend_CO_var = df[df['DayType'] == 'Weekend']['CO'].var()\n",
    "\n",
    "# Grouped means, deviation, variance\n",
    "co_means = df.groupby('DayType')['CO'].mean()\n",
    "co_dev = df.groupby('DayType')['CO'].std()\n",
    "co_var = df.groupby('DayType')['CO'].var()\n",
    "\n",
    "print(\"\\nGrouped Means:\")\n",
    "print(co_means)\n",
    "\n",
    "print(\"\\nGrouped Standard Deviations:\")\n",
    "print(co_dev)\n",
    "\n",
    "print(\"\\nGrouped Variances:\")\n",
    "print(co_var)"
   ]
  },
  {
   "cell_type": "markdown",
   "id": "bd37609a-5291-4952-9159-13fd8788e91e",
   "metadata": {},
   "source": [
    "### or for easier viewing: "
   ]
  },
  {
   "cell_type": "code",
   "execution_count": 340,
   "id": "30df6ff5-a5a6-4e84-8cd3-b9fceee19c15",
   "metadata": {
    "jupyter": {
     "source_hidden": true
    }
   },
   "outputs": [
    {
     "data": {
      "text/html": [
       "<div>\n",
       "<style scoped>\n",
       "    .dataframe tbody tr th:only-of-type {\n",
       "        vertical-align: middle;\n",
       "    }\n",
       "\n",
       "    .dataframe tbody tr th {\n",
       "        vertical-align: top;\n",
       "    }\n",
       "\n",
       "    .dataframe thead th {\n",
       "        text-align: right;\n",
       "    }\n",
       "</style>\n",
       "<table border=\"1\" class=\"dataframe\">\n",
       "  <thead>\n",
       "    <tr style=\"text-align: right;\">\n",
       "      <th></th>\n",
       "      <th>Mean CO</th>\n",
       "      <th>Std Dev</th>\n",
       "      <th>Variance</th>\n",
       "    </tr>\n",
       "  </thead>\n",
       "  <tbody>\n",
       "    <tr>\n",
       "      <th>Weekday</th>\n",
       "      <td>1.028</td>\n",
       "      <td>0.618</td>\n",
       "      <td>0.382</td>\n",
       "    </tr>\n",
       "    <tr>\n",
       "      <th>Weekend</th>\n",
       "      <td>1.019</td>\n",
       "      <td>0.584</td>\n",
       "      <td>0.341</td>\n",
       "    </tr>\n",
       "  </tbody>\n",
       "</table>\n",
       "</div>"
      ],
      "text/plain": [
       "         Mean CO  Std Dev  Variance\n",
       "Weekday    1.028    0.618     0.382\n",
       "Weekend    1.019    0.584     0.341"
      ]
     },
     "metadata": {},
     "output_type": "display_data"
    }
   ],
   "source": [
    "# Creating and displayuing a summary of the data rounded for better viewing\n",
    "summary_table = pd.DataFrame({\n",
    "    'Mean CO': [1.028408, 1.019402],\n",
    "    'Std Dev': [0.618021, 0.584032],\n",
    "    'Variance': [0.381949, 0.341093]\n",
    "}, index=['Weekday', 'Weekend'])\n",
    "\n",
    "# Display the table\n",
    "display(summary_table.round(3))"
   ]
  },
  {
   "cell_type": "code",
   "execution_count": 341,
   "id": "0ec4fb57-bba2-4ef6-86c4-4a30b9633659",
   "metadata": {},
   "outputs": [
    {
     "data": {
      "image/png": "[encoded data removed]",
      "text/plain": [
       "<Figure size 640x480 with 1 Axes>"
      ]
     },
     "metadata": {},
     "output_type": "display_data"
    }
   ],
   "source": [
    "# Plotting the data into a cleaner, organized picture\n",
    "df_melted = data.melt(id_vars='DayType', var_name='Metric', value_name='Value')\n",
    "\n",
    "sns.barplot(x='DayType', y='Value', hue='Metric', data=df_melted, palette='pastel')\n",
    "plt.title(\"CO Metrics by Day Type\")\n",
    "plt.ylabel(\"Value\")\n",
    "plt.show()"
   ]
  },
  {
   "cell_type": "code",
   "execution_count": 342,
   "id": "8243b321-584b-4df2-af46-7e89a6e870bc",
   "metadata": {
    "scrolled": true
   },
   "outputs": [
    {
     "name": "stdout",
     "output_type": "stream",
     "text": [
      "t-statistic: 0.26194434581649556\n",
      "p-value: 0.7934309489393148\n"
     ]
    }
   ],
   "source": [
    "from scipy.stats import ttest_ind\n",
    "\n",
    "week_CO = df[df[\"DayType\"] == \"Weekday\"][\"CO\"]\n",
    "weekend_CO = df[df[\"DayType\"] == \"Weekend\"][\"CO\"]\n",
    "\n",
    "t_stat, p_val = ttest_ind(week_CO, weekend_CO, equal_var=False)  # t-test\n",
    "print(\"t-statistic:\", t_stat)\n",
    "print(\"p-value:\", p_val)\n"
   ]
  },
  {
   "cell_type": "code",
   "execution_count": 343,
   "id": "6f48f2da-8cce-4788-bd5c-62d0b4fde549",
   "metadata": {},
   "outputs": [
    {
     "data": {
      "image/png": "[encoded data removed]",
      "text/plain": [
       "<Figure size 1000x600 with 1 Axes>"
      ]
     },
     "metadata": {},
     "output_type": "display_data"
    }
   ],
   "source": [
    "# Setup/formatting\n",
    "plt.figure(figsize=(10, 6))\n",
    "sns.kdeplot(data=df[df['DayType'] == 'Weekday'], x='CO', fill=True, label='Weekday', alpha=0.5)\n",
    "sns.kdeplot(data=df[df['DayType'] == 'Weekend'], x='CO', fill=True, label='Weekend', alpha=0.5)\n",
    "\n",
    "# Labels for graph\n",
    "plt.title('Distribution of CO Levels: Weekday vs Weekend')\n",
    "plt.xlabel('CO Level')\n",
    "plt.ylabel('Density')\n",
    "plt.legend()\n",
    "plt.show()"
   ]
  },
  {
   "cell_type": "markdown",
   "id": "7d354137-3ce4-4979-91c4-ccdc2fa1f69a",
   "metadata": {},
   "source": [
    "## Conclusion"
   ]
  }
 ],
 "metadata": {
  "kernelspec": {
   "display_name": "Python 3 (ipykernel)",
   "language": "python",
   "name": "python3"
  },
  "language_info": {
   "codemirror_mode": {
    "name": "ipython",
    "version": 3
   },
   "file_extension": ".py",
   "mimetype": "text/x-python",
   "name": "python",
   "nbconvert_exporter": "python",
   "pygments_lexer": "ipython3",
   "version": "3.13.5"
  }
 },
 "nbformat": 4,
 "nbformat_minor": 5
}
